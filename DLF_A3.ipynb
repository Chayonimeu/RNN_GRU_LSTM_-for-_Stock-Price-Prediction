{
 "cells": [
  {
   "cell_type": "markdown",
   "metadata": {},
   "source": [
    "# Recurrent Neural Networks for Stock Price Prediction, Deep Learning Fundamentals"
   ]
  },
  {
   "cell_type": "markdown",
   "metadata": {},
   "source": [
    "## Problem Setup and Dataset Preparation"
   ]
  },
  {
   "cell_type": "code",
   "execution_count": 3,
   "metadata": {},
   "outputs": [
    {
     "name": "stdout",
     "output_type": "stream",
     "text": [
      "Datasets loaded successfully!\n",
      "\n",
      "Training Data Sample:\n",
      "       Date    Open    High     Low   Close      Volume\n",
      "0  1/3/2012  325.25  332.83  324.97  663.59   7,380,500\n",
      "1  1/4/2012  331.27  333.87  329.08  666.45   5,749,400\n",
      "2  1/5/2012  329.83  330.75  326.89  657.21   6,590,300\n",
      "3  1/6/2012  328.34  328.77  323.68  648.24   5,405,900\n",
      "4  1/9/2012  322.04  322.29  309.46  620.76  11,688,800\n",
      "Date       object\n",
      "Open      float64\n",
      "High      float64\n",
      "Low       float64\n",
      "Close      object\n",
      "Volume     object\n",
      "dtype: object\n",
      "\n",
      "Testing Data Sample:\n",
      "       Date    Open    High     Low   Close     Volume\n",
      "0  1/3/2017  778.81  789.63  775.80  786.14  1,657,300\n",
      "1  1/4/2017  788.36  791.34  783.16  786.90  1,073,000\n",
      "2  1/5/2017  786.08  794.48  785.02  794.02  1,335,200\n",
      "3  1/6/2017  795.26  807.90  792.20  806.15  1,640,200\n",
      "4  1/9/2017  806.40  809.97  802.83  806.65  1,272,400\n",
      "Date       object\n",
      "Open      float64\n",
      "High      float64\n",
      "Low       float64\n",
      "Close     float64\n",
      "Volume     object\n",
      "dtype: object\n"
     ]
    }
   ],
   "source": [
    "import pandas as pd\n",
    "\n",
    "# Define file paths\n",
    "train_path = '/Users/chayonimeu/Documents/GitHub/RNN_GRU_LSTM_-for-_Stock-Price-Prediction/GSP_Data/Google_Stock_Price_Train.csv'\n",
    "test_path = '/Users/chayonimeu/Documents/GitHub/RNN_GRU_LSTM_-for-_Stock-Price-Prediction/GSP_Data/Google_Stock_Price_Test.csv'\n",
    "\n",
    "# Load datasets\n",
    "try:\n",
    "    train_data = pd.read_csv(train_path)\n",
    "    test_data = pd.read_csv(test_path)\n",
    "    print(\"Datasets loaded successfully!\")\n",
    "except FileNotFoundError as e:\n",
    "    print(f\"Error: {e}\")\n",
    "\n",
    "# Display data samples\n",
    "print(\"\\nTraining Data Sample:\")\n",
    "print(train_data.head())\n",
    "print(train_data.dtypes)\n",
    "\n",
    "print(\"\\nTesting Data Sample:\")\n",
    "print(test_data.head())\n",
    "print(test_data.dtypes)"
   ]
  },
  {
   "cell_type": "markdown",
   "metadata": {},
   "source": [
    "### Clean and Preprocess Data"
   ]
  },
  {
   "cell_type": "code",
   "execution_count": 4,
   "metadata": {},
   "outputs": [
    {
     "name": "stdout",
     "output_type": "stream",
     "text": [
      "\n",
      "Cleaned Training Data Sample:\n",
      "        Date    Open    High     Low   Close      Volume\n",
      "0 2012-01-03  325.25  332.83  324.97  663.59   7380500.0\n",
      "1 2012-01-04  331.27  333.87  329.08  666.45   5749400.0\n",
      "2 2012-01-05  329.83  330.75  326.89  657.21   6590300.0\n",
      "3 2012-01-06  328.34  328.77  323.68  648.24   5405900.0\n",
      "4 2012-01-09  322.04  322.29  309.46  620.76  11688800.0\n",
      "\n",
      "Cleaned Testing Data Sample:\n",
      "        Date    Open    High     Low   Close     Volume\n",
      "0 2017-01-03  778.81  789.63  775.80  786.14  1657300.0\n",
      "1 2017-01-04  788.36  791.34  783.16  786.90  1073000.0\n",
      "2 2017-01-05  786.08  794.48  785.02  794.02  1335200.0\n",
      "3 2017-01-06  795.26  807.90  792.20  806.15  1640200.0\n",
      "4 2017-01-09  806.40  809.97  802.83  806.65  1272400.0\n"
     ]
    }
   ],
   "source": [
    "# Clean and preprocess the data\n",
    "def clean_data(data):\n",
    "    # Convert 'Date' column to datetime\n",
    "    data['Date'] = pd.to_datetime(data['Date'])\n",
    "\n",
    "    # Remove commas from 'Close' and 'Volume', and convert to float\n",
    "    if 'Close' in data.columns and data['Close'].dtype == 'object':\n",
    "        data['Close'] = data['Close'].str.replace(',', '').astype(float)\n",
    "    if 'Volume' in data.columns and data['Volume'].dtype == 'object':\n",
    "        data['Volume'] = data['Volume'].str.replace(',', '').astype(float)\n",
    "    \n",
    "    return data\n",
    "\n",
    "# Apply cleaning\n",
    "train_data = clean_data(train_data)\n",
    "test_data = clean_data(test_data)\n",
    "\n",
    "# Display the cleaned data\n",
    "print(\"\\nCleaned Training Data Sample:\")\n",
    "print(train_data.head())\n",
    "\n",
    "print(\"\\nCleaned Testing Data Sample:\")\n",
    "print(test_data.head())"
   ]
  },
  {
   "cell_type": "markdown",
   "metadata": {},
   "source": [
    "### Normalize the Data"
   ]
  },
  {
   "cell_type": "code",
   "execution_count": 5,
   "metadata": {},
   "outputs": [
    {
     "name": "stdout",
     "output_type": "stream",
     "text": [
      "\n",
      "Normalized Training Data Sample:\n",
      "       Open      High       Low     Close    Volume\n",
      "0  0.085814  0.096401  0.090449  0.237573  0.295258\n",
      "1  0.097012  0.098344  0.098235  0.241514  0.229936\n",
      "2  0.094334  0.092517  0.094086  0.228781  0.263612\n",
      "3  0.091562  0.088819  0.088006  0.216419  0.216179\n",
      "4  0.079842  0.076718  0.061070  0.178548  0.467797\n",
      "\n",
      "Normalized Testing Data Sample:\n",
      "       Open      High       Low     Close    Volume\n",
      "0  0.929552  0.949484  0.944423  0.406461  0.066055\n",
      "1  0.947318  0.952677  0.958365  0.407508  0.042655\n",
      "2  0.943076  0.958541  0.961888  0.417320  0.053156\n",
      "3  0.960153  0.983603  0.975489  0.434037  0.065370\n",
      "4  0.980877  0.987469  0.995624  0.434726  0.050641\n"
     ]
    }
   ],
   "source": [
    "from sklearn.preprocessing import MinMaxScaler\n",
    "import joblib\n",
    "\n",
    "# Define scaler\n",
    "scaler = MinMaxScaler()\n",
    "\n",
    "# Select numeric columns for scaling\n",
    "numeric_columns = ['Open', 'High', 'Low', 'Close', 'Volume']\n",
    "\n",
    "# Fit scaler on training data and transform both training and testing data\n",
    "train_scaled = scaler.fit_transform(train_data[numeric_columns])\n",
    "test_scaled = scaler.transform(test_data[numeric_columns])\n",
    "\n",
    "# Save the scaler for future use (e.g., inverse transformation)\n",
    "joblib.dump(scaler, 'scaler.pkl')\n",
    "\n",
    "# Convert scaled data back to DataFrame for visualization\n",
    "train_scaled_df = pd.DataFrame(train_scaled, columns=numeric_columns)\n",
    "test_scaled_df = pd.DataFrame(test_scaled, columns=numeric_columns)\n",
    "\n",
    "# Display normalized data\n",
    "print(\"\\nNormalized Training Data Sample:\")\n",
    "print(train_scaled_df.head())\n",
    "\n",
    "print(\"\\nNormalized Testing Data Sample:\")\n",
    "print(test_scaled_df.head())"
   ]
  },
  {
   "cell_type": "markdown",
   "metadata": {},
   "source": [
    "### Create Time-Series Sequences"
   ]
  },
  {
   "cell_type": "code",
   "execution_count": 8,
   "metadata": {},
   "outputs": [
    {
     "name": "stdout",
     "output_type": "stream",
     "text": [
      "Training Input Shape: (1239, 19, 5)\n",
      "Training Target Shape: (1239, 1, 5)\n",
      "Testing Input Shape: (1, 19, 5)\n",
      "Testing Target Shape: (1, 1, 5)\n"
     ]
    }
   ],
   "source": [
    "import numpy as np\n",
    "\n",
    "def create_sequences(data, sequence_length, prediction_length):\n",
    "    \"\"\"\n",
    "    Create sequences of data for time-series prediction.\n",
    "    \n",
    "    Args:\n",
    "    - data (array-like): Scaled dataset (e.g., train_scaled or test_scaled).\n",
    "    - sequence_length (int): Number of past days (N) to use as input.\n",
    "    - prediction_length (int): Number of future days (M) to predict.\n",
    "\n",
    "    Returns:\n",
    "    - X (np.array): Input features with shape (samples, sequence_length, features).\n",
    "    - y (np.array): Target predictions with shape (samples, prediction_length, features).\n",
    "    \"\"\"\n",
    "    X, y = [], []\n",
    "    for i in range(len(data) - sequence_length - prediction_length + 1):\n",
    "        X.append(data[i:i + sequence_length])\n",
    "        y.append(data[i + sequence_length:i + sequence_length + prediction_length])\n",
    "    return np.array(X), np.array(y)\n",
    "\n",
    "# Parameters for sequence creation\n",
    "# Adjusting sequence_length to fit the test dataset (sequence_length + prediction_length <= len(test_scaled))\n",
    "sequence_length = 19  # Use past 19 days to fit the 20 rows in test data\n",
    "prediction_length = 1  # Predict next 1 day\n",
    "\n",
    "# Create sequences for training and testing\n",
    "X_train, y_train = create_sequences(train_scaled, sequence_length, prediction_length)\n",
    "X_test, y_test = create_sequences(test_scaled, sequence_length, prediction_length)\n",
    "\n",
    "# Display shapes\n",
    "print(f\"Training Input Shape: {X_train.shape}\")\n",
    "print(f\"Training Target Shape: {y_train.shape}\")\n",
    "print(f\"Testing Input Shape: {X_test.shape}\")\n",
    "print(f\"Testing Target Shape: {y_test.shape}\")"
   ]
  },
  {
   "cell_type": "code",
   "execution_count": 7,
   "metadata": {},
   "outputs": [
    {
     "name": "stdout",
     "output_type": "stream",
     "text": [
      "Number of rows in test dataset: 20\n"
     ]
    }
   ],
   "source": [
    "print(f\"Number of rows in test dataset: {len(test_scaled)}\")"
   ]
  },
  {
   "cell_type": "code",
   "execution_count": null,
   "metadata": {},
   "outputs": [],
   "source": []
  },
  {
   "cell_type": "markdown",
   "metadata": {},
   "source": [
    "## Model Implementation"
   ]
  },
  {
   "cell_type": "markdown",
   "metadata": {},
   "source": [
    "### Implement a Vanilla RNN Model"
   ]
  },
  {
   "cell_type": "code",
   "execution_count": 9,
   "metadata": {},
   "outputs": [
    {
     "name": "stderr",
     "output_type": "stream",
     "text": [
      "/Library/Frameworks/Python.framework/Versions/3.12/lib/python3.12/site-packages/keras/src/layers/rnn/rnn.py:204: UserWarning: Do not pass an `input_shape`/`input_dim` argument to a layer. When using Sequential models, prefer using an `Input(shape)` object as the first layer in the model instead.\n",
      "  super().__init__(**kwargs)\n"
     ]
    },
    {
     "data": {
      "text/html": [
       "<pre style=\"white-space:pre;overflow-x:auto;line-height:normal;font-family:Menlo,'DejaVu Sans Mono',consolas,'Courier New',monospace\"><span style=\"font-weight: bold\">Model: \"sequential\"</span>\n",
       "</pre>\n"
      ],
      "text/plain": [
       "\u001b[1mModel: \"sequential\"\u001b[0m\n"
      ]
     },
     "metadata": {},
     "output_type": "display_data"
    },
    {
     "data": {
      "text/html": [
       "<pre style=\"white-space:pre;overflow-x:auto;line-height:normal;font-family:Menlo,'DejaVu Sans Mono',consolas,'Courier New',monospace\">┏━━━━━━━━━━━━━━━━━━━━━━━━━━━━━━━━━┳━━━━━━━━━━━━━━━━━━━━━━━━┳━━━━━━━━━━━━━━━┓\n",
       "┃<span style=\"font-weight: bold\"> Layer (type)                    </span>┃<span style=\"font-weight: bold\"> Output Shape           </span>┃<span style=\"font-weight: bold\">       Param # </span>┃\n",
       "┡━━━━━━━━━━━━━━━━━━━━━━━━━━━━━━━━━╇━━━━━━━━━━━━━━━━━━━━━━━━╇━━━━━━━━━━━━━━━┩\n",
       "│ simple_rnn (<span style=\"color: #0087ff; text-decoration-color: #0087ff\">SimpleRNN</span>)          │ (<span style=\"color: #00d7ff; text-decoration-color: #00d7ff\">None</span>, <span style=\"color: #00af00; text-decoration-color: #00af00\">19</span>, <span style=\"color: #00af00; text-decoration-color: #00af00\">50</span>)         │         <span style=\"color: #00af00; text-decoration-color: #00af00\">2,800</span> │\n",
       "├─────────────────────────────────┼────────────────────────┼───────────────┤\n",
       "│ dense (<span style=\"color: #0087ff; text-decoration-color: #0087ff\">Dense</span>)                   │ (<span style=\"color: #00d7ff; text-decoration-color: #00d7ff\">None</span>, <span style=\"color: #00af00; text-decoration-color: #00af00\">19</span>, <span style=\"color: #00af00; text-decoration-color: #00af00\">5</span>)          │           <span style=\"color: #00af00; text-decoration-color: #00af00\">255</span> │\n",
       "└─────────────────────────────────┴────────────────────────┴───────────────┘\n",
       "</pre>\n"
      ],
      "text/plain": [
       "┏━━━━━━━━━━━━━━━━━━━━━━━━━━━━━━━━━┳━━━━━━━━━━━━━━━━━━━━━━━━┳━━━━━━━━━━━━━━━┓\n",
       "┃\u001b[1m \u001b[0m\u001b[1mLayer (type)                   \u001b[0m\u001b[1m \u001b[0m┃\u001b[1m \u001b[0m\u001b[1mOutput Shape          \u001b[0m\u001b[1m \u001b[0m┃\u001b[1m \u001b[0m\u001b[1m      Param #\u001b[0m\u001b[1m \u001b[0m┃\n",
       "┡━━━━━━━━━━━━━━━━━━━━━━━━━━━━━━━━━╇━━━━━━━━━━━━━━━━━━━━━━━━╇━━━━━━━━━━━━━━━┩\n",
       "│ simple_rnn (\u001b[38;5;33mSimpleRNN\u001b[0m)          │ (\u001b[38;5;45mNone\u001b[0m, \u001b[38;5;34m19\u001b[0m, \u001b[38;5;34m50\u001b[0m)         │         \u001b[38;5;34m2,800\u001b[0m │\n",
       "├─────────────────────────────────┼────────────────────────┼───────────────┤\n",
       "│ dense (\u001b[38;5;33mDense\u001b[0m)                   │ (\u001b[38;5;45mNone\u001b[0m, \u001b[38;5;34m19\u001b[0m, \u001b[38;5;34m5\u001b[0m)          │           \u001b[38;5;34m255\u001b[0m │\n",
       "└─────────────────────────────────┴────────────────────────┴───────────────┘\n"
      ]
     },
     "metadata": {},
     "output_type": "display_data"
    },
    {
     "data": {
      "text/html": [
       "<pre style=\"white-space:pre;overflow-x:auto;line-height:normal;font-family:Menlo,'DejaVu Sans Mono',consolas,'Courier New',monospace\"><span style=\"font-weight: bold\"> Total params: </span><span style=\"color: #00af00; text-decoration-color: #00af00\">3,055</span> (11.93 KB)\n",
       "</pre>\n"
      ],
      "text/plain": [
       "\u001b[1m Total params: \u001b[0m\u001b[38;5;34m3,055\u001b[0m (11.93 KB)\n"
      ]
     },
     "metadata": {},
     "output_type": "display_data"
    },
    {
     "data": {
      "text/html": [
       "<pre style=\"white-space:pre;overflow-x:auto;line-height:normal;font-family:Menlo,'DejaVu Sans Mono',consolas,'Courier New',monospace\"><span style=\"font-weight: bold\"> Trainable params: </span><span style=\"color: #00af00; text-decoration-color: #00af00\">3,055</span> (11.93 KB)\n",
       "</pre>\n"
      ],
      "text/plain": [
       "\u001b[1m Trainable params: \u001b[0m\u001b[38;5;34m3,055\u001b[0m (11.93 KB)\n"
      ]
     },
     "metadata": {},
     "output_type": "display_data"
    },
    {
     "data": {
      "text/html": [
       "<pre style=\"white-space:pre;overflow-x:auto;line-height:normal;font-family:Menlo,'DejaVu Sans Mono',consolas,'Courier New',monospace\"><span style=\"font-weight: bold\"> Non-trainable params: </span><span style=\"color: #00af00; text-decoration-color: #00af00\">0</span> (0.00 B)\n",
       "</pre>\n"
      ],
      "text/plain": [
       "\u001b[1m Non-trainable params: \u001b[0m\u001b[38;5;34m0\u001b[0m (0.00 B)\n"
      ]
     },
     "metadata": {},
     "output_type": "display_data"
    }
   ],
   "source": [
    "from keras.models import Sequential\n",
    "from keras.layers import SimpleRNN, Dense\n",
    "\n",
    "# Define the Vanilla RNN model\n",
    "def build_rnn(sequence_length, num_features):\n",
    "    model = Sequential()\n",
    "    model.add(SimpleRNN(units=50, return_sequences=True, input_shape=(sequence_length, num_features)))\n",
    "    model.add(Dense(units=5))  # Output layer for 5 features\n",
    "    model.compile(optimizer='adam', loss='mean_squared_error')\n",
    "    return model\n",
    "\n",
    "# Build the model\n",
    "rnn_model = build_rnn(sequence_length=19, num_features=5)\n",
    "\n",
    "# Display the model summary\n",
    "rnn_model.summary()"
   ]
  },
  {
   "cell_type": "markdown",
   "metadata": {},
   "source": [
    "### Train the RNN Model"
   ]
  },
  {
   "cell_type": "code",
   "execution_count": 12,
   "metadata": {},
   "outputs": [],
   "source": [
    "# Train the model\n",
    "history = rnn_model.fit(\n",
    "    X_train, y_train,\n",
    "    validation_split=0.1,  # Use 10% of training data for validation\n",
    "    epochs=20,\n",
    "    batch_size=32,\n",
    "    verbose=0\n",
    ")"
   ]
  },
  {
   "cell_type": "markdown",
   "metadata": {},
   "source": [
    "### Evaluate the RNN Model"
   ]
  },
  {
   "cell_type": "code",
   "execution_count": 13,
   "metadata": {},
   "outputs": [
    {
     "name": "stdout",
     "output_type": "stream",
     "text": [
      "Test Loss: 0.0013279624981805682\n",
      "\u001b[1m1/1\u001b[0m \u001b[32m━━━━━━━━━━━━━━━━━━━━\u001b[0m\u001b[37m\u001b[0m \u001b[1m0s\u001b[0m 41ms/step\n",
      "\n",
      "Rescaled Predictions:\n",
      "[[7.7128894e+02 7.7011694e+02 7.5512567e+02 7.4058575e+02 1.7592080e+06]\n",
      " [7.7887140e+02 7.7915570e+02 7.5857587e+02 7.1819794e+02 1.4253562e+06]\n",
      " [7.8819885e+02 7.7723627e+02 7.5849280e+02 7.3189880e+02 1.7788820e+06]\n",
      " [8.0033167e+02 7.8600476e+02 7.6677228e+02 7.3465924e+02 1.7556474e+06]\n",
      " [8.1606793e+02 7.8867145e+02 7.7329260e+02 7.5181775e+02 1.7907560e+06]\n",
      " [8.0926678e+02 7.9669214e+02 7.7521472e+02 7.4490601e+02 2.3136820e+06]\n",
      " [8.0741003e+02 8.0396564e+02 7.7282281e+02 7.4688019e+02 2.0777215e+06]\n",
      " [8.0684918e+02 8.0003442e+02 7.7606976e+02 7.5632507e+02 1.9733105e+06]\n",
      " [8.0513647e+02 8.0653674e+02 7.7910541e+02 7.5810278e+02 2.0886008e+06]\n",
      " [8.0499158e+02 7.9990247e+02 7.7883899e+02 7.6158325e+02 2.0529656e+06]\n",
      " [8.0767670e+02 7.9765332e+02 7.7795532e+02 7.5882489e+02 2.1856570e+06]\n",
      " [8.0804663e+02 7.9691205e+02 7.7351068e+02 7.6302899e+02 2.0071569e+06]\n",
      " [8.0787805e+02 7.9712250e+02 7.7507184e+02 7.6800104e+02 2.0042250e+06]\n",
      " [8.1336890e+02 7.9924329e+02 7.8305420e+02 7.7802502e+02 2.2473532e+06]\n",
      " [8.1925092e+02 8.1174481e+02 7.9175488e+02 7.8114142e+02 1.9843968e+06]\n",
      " [8.2683661e+02 8.1749878e+02 7.9771393e+02 7.9070819e+02 1.9891768e+06]\n",
      " [8.2988562e+02 8.1677008e+02 7.9841302e+02 7.8018738e+02 2.1673330e+06]\n",
      " [8.3204071e+02 8.1557220e+02 7.9774487e+02 7.7462799e+02 1.9714362e+06]\n",
      " [8.1040308e+02 7.9700067e+02 7.7625079e+02 7.5729596e+02 2.1248650e+06]]\n"
     ]
    }
   ],
   "source": [
    "# Evaluate the model on test data\n",
    "test_loss = rnn_model.evaluate(X_test, y_test, verbose=0)\n",
    "print(f\"Test Loss: {test_loss}\")\n",
    "\n",
    "# Make predictions\n",
    "y_pred = rnn_model.predict(X_test)\n",
    "\n",
    "# Example of inverse scaling for predictions (if necessary)\n",
    "import joblib\n",
    "\n",
    "# Load the scaler\n",
    "scaler = joblib.load('scaler.pkl')\n",
    "\n",
    "# Reshape and inverse transform predictions\n",
    "y_pred_rescaled = scaler.inverse_transform(y_pred.reshape(-1, 5))\n",
    "\n",
    "print(\"\\nRescaled Predictions:\")\n",
    "print(y_pred_rescaled)"
   ]
  },
  {
   "cell_type": "markdown",
   "metadata": {},
   "source": [
    "### Visualize Results"
   ]
  },
  {
   "cell_type": "code",
   "execution_count": 14,
   "metadata": {},
   "outputs": [
    {
     "data": {
      "image/png": "[encoded data removed]",
      "text/plain": [
       "<Figure size 1000x600 with 1 Axes>"
      ]
     },
     "metadata": {},
     "output_type": "display_data"
    }
   ],
   "source": [
    "import matplotlib.pyplot as plt\n",
    "\n",
    "# Plot true vs predicted values for the 'Close' feature\n",
    "true_close = y_test.reshape(-1, 5)[:, 3]  # Extract true 'Close' values\n",
    "pred_close = y_pred.reshape(-1, 5)[:, 3]  # Extract predicted 'Close' values\n",
    "\n",
    "plt.figure(figsize=(10, 6))\n",
    "plt.plot(true_close, label='True Close Price', marker='o')\n",
    "plt.plot(pred_close, label='Predicted Close Price', marker='x')\n",
    "plt.title('True vs Predicted Close Prices')\n",
    "plt.legend()\n",
    "plt.show()"
   ]
  },
  {
   "cell_type": "markdown",
   "metadata": {},
   "source": []
  },
  {
   "cell_type": "markdown",
   "metadata": {},
   "source": [
    "## Implement GRU Model"
   ]
  },
  {
   "cell_type": "code",
   "execution_count": 15,
   "metadata": {},
   "outputs": [
    {
     "name": "stderr",
     "output_type": "stream",
     "text": [
      "/Library/Frameworks/Python.framework/Versions/3.12/lib/python3.12/site-packages/keras/src/layers/rnn/rnn.py:204: UserWarning: Do not pass an `input_shape`/`input_dim` argument to a layer. When using Sequential models, prefer using an `Input(shape)` object as the first layer in the model instead.\n",
      "  super().__init__(**kwargs)\n"
     ]
    },
    {
     "data": {
      "text/html": [
       "<pre style=\"white-space:pre;overflow-x:auto;line-height:normal;font-family:Menlo,'DejaVu Sans Mono',consolas,'Courier New',monospace\"><span style=\"font-weight: bold\">Model: \"sequential_1\"</span>\n",
       "</pre>\n"
      ],
      "text/plain": [
       "\u001b[1mModel: \"sequential_1\"\u001b[0m\n"
      ]
     },
     "metadata": {},
     "output_type": "display_data"
    },
    {
     "data": {
      "text/html": [
       "<pre style=\"white-space:pre;overflow-x:auto;line-height:normal;font-family:Menlo,'DejaVu Sans Mono',consolas,'Courier New',monospace\">┏━━━━━━━━━━━━━━━━━━━━━━━━━━━━━━━━━┳━━━━━━━━━━━━━━━━━━━━━━━━┳━━━━━━━━━━━━━━━┓\n",
       "┃<span style=\"font-weight: bold\"> Layer (type)                    </span>┃<span style=\"font-weight: bold\"> Output Shape           </span>┃<span style=\"font-weight: bold\">       Param # </span>┃\n",
       "┡━━━━━━━━━━━━━━━━━━━━━━━━━━━━━━━━━╇━━━━━━━━━━━━━━━━━━━━━━━━╇━━━━━━━━━━━━━━━┩\n",
       "│ gru (<span style=\"color: #0087ff; text-decoration-color: #0087ff\">GRU</span>)                       │ (<span style=\"color: #00d7ff; text-decoration-color: #00d7ff\">None</span>, <span style=\"color: #00af00; text-decoration-color: #00af00\">19</span>, <span style=\"color: #00af00; text-decoration-color: #00af00\">50</span>)         │         <span style=\"color: #00af00; text-decoration-color: #00af00\">8,550</span> │\n",
       "├─────────────────────────────────┼────────────────────────┼───────────────┤\n",
       "│ dense_1 (<span style=\"color: #0087ff; text-decoration-color: #0087ff\">Dense</span>)                 │ (<span style=\"color: #00d7ff; text-decoration-color: #00d7ff\">None</span>, <span style=\"color: #00af00; text-decoration-color: #00af00\">19</span>, <span style=\"color: #00af00; text-decoration-color: #00af00\">5</span>)          │           <span style=\"color: #00af00; text-decoration-color: #00af00\">255</span> │\n",
       "└─────────────────────────────────┴────────────────────────┴───────────────┘\n",
       "</pre>\n"
      ],
      "text/plain": [
       "┏━━━━━━━━━━━━━━━━━━━━━━━━━━━━━━━━━┳━━━━━━━━━━━━━━━━━━━━━━━━┳━━━━━━━━━━━━━━━┓\n",
       "┃\u001b[1m \u001b[0m\u001b[1mLayer (type)                   \u001b[0m\u001b[1m \u001b[0m┃\u001b[1m \u001b[0m\u001b[1mOutput Shape          \u001b[0m\u001b[1m \u001b[0m┃\u001b[1m \u001b[0m\u001b[1m      Param #\u001b[0m\u001b[1m \u001b[0m┃\n",
       "┡━━━━━━━━━━━━━━━━━━━━━━━━━━━━━━━━━╇━━━━━━━━━━━━━━━━━━━━━━━━╇━━━━━━━━━━━━━━━┩\n",
       "│ gru (\u001b[38;5;33mGRU\u001b[0m)                       │ (\u001b[38;5;45mNone\u001b[0m, \u001b[38;5;34m19\u001b[0m, \u001b[38;5;34m50\u001b[0m)         │         \u001b[38;5;34m8,550\u001b[0m │\n",
       "├─────────────────────────────────┼────────────────────────┼───────────────┤\n",
       "│ dense_1 (\u001b[38;5;33mDense\u001b[0m)                 │ (\u001b[38;5;45mNone\u001b[0m, \u001b[38;5;34m19\u001b[0m, \u001b[38;5;34m5\u001b[0m)          │           \u001b[38;5;34m255\u001b[0m │\n",
       "└─────────────────────────────────┴────────────────────────┴───────────────┘\n"
      ]
     },
     "metadata": {},
     "output_type": "display_data"
    },
    {
     "data": {
      "text/html": [
       "<pre style=\"white-space:pre;overflow-x:auto;line-height:normal;font-family:Menlo,'DejaVu Sans Mono',consolas,'Courier New',monospace\"><span style=\"font-weight: bold\"> Total params: </span><span style=\"color: #00af00; text-decoration-color: #00af00\">8,805</span> (34.39 KB)\n",
       "</pre>\n"
      ],
      "text/plain": [
       "\u001b[1m Total params: \u001b[0m\u001b[38;5;34m8,805\u001b[0m (34.39 KB)\n"
      ]
     },
     "metadata": {},
     "output_type": "display_data"
    },
    {
     "data": {
      "text/html": [
       "<pre style=\"white-space:pre;overflow-x:auto;line-height:normal;font-family:Menlo,'DejaVu Sans Mono',consolas,'Courier New',monospace\"><span style=\"font-weight: bold\"> Trainable params: </span><span style=\"color: #00af00; text-decoration-color: #00af00\">8,805</span> (34.39 KB)\n",
       "</pre>\n"
      ],
      "text/plain": [
       "\u001b[1m Trainable params: \u001b[0m\u001b[38;5;34m8,805\u001b[0m (34.39 KB)\n"
      ]
     },
     "metadata": {},
     "output_type": "display_data"
    },
    {
     "data": {
      "text/html": [
       "<pre style=\"white-space:pre;overflow-x:auto;line-height:normal;font-family:Menlo,'DejaVu Sans Mono',consolas,'Courier New',monospace\"><span style=\"font-weight: bold\"> Non-trainable params: </span><span style=\"color: #00af00; text-decoration-color: #00af00\">0</span> (0.00 B)\n",
       "</pre>\n"
      ],
      "text/plain": [
       "\u001b[1m Non-trainable params: \u001b[0m\u001b[38;5;34m0\u001b[0m (0.00 B)\n"
      ]
     },
     "metadata": {},
     "output_type": "display_data"
    }
   ],
   "source": [
    "from keras.layers import GRU\n",
    "\n",
    "# Define the GRU model\n",
    "def build_gru(sequence_length, num_features):\n",
    "    model = Sequential()\n",
    "    model.add(GRU(units=50, return_sequences=True, input_shape=(sequence_length, num_features)))\n",
    "    model.add(Dense(units=5))  # Output layer for 5 features\n",
    "    model.compile(optimizer='adam', loss='mean_squared_error')\n",
    "    return model\n",
    "\n",
    "# Build the model\n",
    "gru_model = build_gru(sequence_length=19, num_features=5)\n",
    "\n",
    "# Display the model summary\n",
    "gru_model.summary()"
   ]
  },
  {
   "cell_type": "markdown",
   "metadata": {},
   "source": [
    "### Train the GRU Model"
   ]
  },
  {
   "cell_type": "code",
   "execution_count": 16,
   "metadata": {},
   "outputs": [],
   "source": [
    "# Train the GRU model\n",
    "gru_history = gru_model.fit(\n",
    "    X_train, y_train,\n",
    "    validation_split=0.1,  # Use 10% of training data for validation\n",
    "    epochs=20,\n",
    "    batch_size=32,\n",
    "    verbose=0\n",
    ")"
   ]
  },
  {
   "cell_type": "markdown",
   "metadata": {},
   "source": [
    "### Evaluate the GRU Model"
   ]
  },
  {
   "cell_type": "code",
   "execution_count": 17,
   "metadata": {},
   "outputs": [
    {
     "name": "stdout",
     "output_type": "stream",
     "text": [
      "GRU Test Loss: 0.0005800710641779006\n",
      "\u001b[1m1/1\u001b[0m \u001b[32m━━━━━━━━━━━━━━━━━━━━\u001b[0m\u001b[37m\u001b[0m \u001b[1m0s\u001b[0m 55ms/step\n",
      "\n",
      "GRU Rescaled Predictions:\n",
      "[[7.7942645e+02 7.7283502e+02 7.3898877e+02 7.8185504e+02 9.6367619e+05]\n",
      " [7.7632709e+02 7.7491907e+02 7.7351154e+02 7.6148511e+02 2.3276455e+06]\n",
      " [7.8190656e+02 7.7837518e+02 7.6608539e+02 7.6669397e+02 1.8318846e+06]\n",
      " [7.9563153e+02 7.9050116e+02 7.7617664e+02 7.8383875e+02 1.9813710e+06]\n",
      " [8.0093250e+02 7.9238318e+02 7.7938629e+02 7.8393451e+02 1.9956724e+06]\n",
      " [8.0085138e+02 7.9213788e+02 7.7899292e+02 7.8214880e+02 2.0137484e+06]\n",
      " [7.9849756e+02 7.9109772e+02 7.7757404e+02 7.8431665e+02 2.0421018e+06]\n",
      " [7.9777307e+02 7.9171600e+02 7.7700543e+02 7.8554163e+02 2.0925785e+06]\n",
      " [8.0093817e+02 7.9338757e+02 7.7956024e+02 7.8581207e+02 2.0268631e+06]\n",
      " [7.9712903e+02 7.9087903e+02 7.7665796e+02 7.8451361e+02 2.1068638e+06]\n",
      " [7.9648981e+02 7.8992987e+02 7.7564185e+02 7.8489648e+02 2.0828354e+06]\n",
      " [7.9773621e+02 7.9199146e+02 7.7710931e+02 7.8244476e+02 2.0260456e+06]\n",
      " [7.9716382e+02 7.9087646e+02 7.7680066e+02 7.8552100e+02 2.1217092e+06]\n",
      " [8.0198907e+02 7.9933215e+02 7.8317523e+02 7.9690881e+02 2.1674352e+06]\n",
      " [8.1104138e+02 8.0602686e+02 7.8985028e+02 8.0123682e+02 2.1036355e+06]\n",
      " [8.1879883e+02 8.1456702e+02 7.9804578e+02 8.1035992e+02 2.1249338e+06]\n",
      " [8.2237732e+02 8.1691394e+02 8.0057971e+02 8.1101837e+02 2.2796898e+06]\n",
      " [8.2029889e+02 8.1710443e+02 7.9866882e+02 8.0248828e+02 2.2957095e+06]\n",
      " [7.9963531e+02 7.9440289e+02 7.7799493e+02 7.8366669e+02 2.3863475e+06]]\n"
     ]
    }
   ],
   "source": [
    "# Evaluate the model on test data\n",
    "gru_test_loss = gru_model.evaluate(X_test, y_test, verbose=0)\n",
    "print(f\"GRU Test Loss: {gru_test_loss}\")\n",
    "\n",
    "# Make predictions\n",
    "gru_y_pred = gru_model.predict(X_test)\n",
    "\n",
    "# Rescale the predictions (if necessary)\n",
    "gru_y_pred_rescaled = scaler.inverse_transform(gru_y_pred.reshape(-1, 5))\n",
    "\n",
    "print(\"\\nGRU Rescaled Predictions:\")\n",
    "print(gru_y_pred_rescaled)"
   ]
  },
  {
   "cell_type": "markdown",
   "metadata": {},
   "source": [
    "### Visualize GRU Results"
   ]
  },
  {
   "cell_type": "code",
   "execution_count": 18,
   "metadata": {},
   "outputs": [
    {
     "data": {
      "image/png": "[encoded data removed]",
      "text/plain": [
       "<Figure size 1000x600 with 1 Axes>"
      ]
     },
     "metadata": {},
     "output_type": "display_data"
    }
   ],
   "source": [
    "# Plot true vs predicted values for the 'Close' feature\n",
    "gru_true_close = y_test.reshape(-1, 5)[:, 3]  # Extract true 'Close' values\n",
    "gru_pred_close = gru_y_pred.reshape(-1, 5)[:, 3]  # Extract predicted 'Close' values\n",
    "\n",
    "plt.figure(figsize=(10, 6))\n",
    "plt.plot(gru_true_close, label='True Close Price', marker='o')\n",
    "plt.plot(gru_pred_close, label='Predicted Close Price', marker='x')\n",
    "plt.title('GRU: True vs Predicted Close Prices')\n",
    "plt.legend()\n",
    "plt.show()"
   ]
  },
  {
   "cell_type": "markdown",
   "metadata": {},
   "source": []
  },
  {
   "cell_type": "markdown",
   "metadata": {},
   "source": [
    "## Implement LSTM Model"
   ]
  },
  {
   "cell_type": "code",
   "execution_count": 19,
   "metadata": {},
   "outputs": [
    {
     "name": "stderr",
     "output_type": "stream",
     "text": [
      "/Library/Frameworks/Python.framework/Versions/3.12/lib/python3.12/site-packages/keras/src/layers/rnn/rnn.py:204: UserWarning: Do not pass an `input_shape`/`input_dim` argument to a layer. When using Sequential models, prefer using an `Input(shape)` object as the first layer in the model instead.\n",
      "  super().__init__(**kwargs)\n"
     ]
    },
    {
     "data": {
      "text/html": [
       "<pre style=\"white-space:pre;overflow-x:auto;line-height:normal;font-family:Menlo,'DejaVu Sans Mono',consolas,'Courier New',monospace\"><span style=\"font-weight: bold\">Model: \"sequential_2\"</span>\n",
       "</pre>\n"
      ],
      "text/plain": [
       "\u001b[1mModel: \"sequential_2\"\u001b[0m\n"
      ]
     },
     "metadata": {},
     "output_type": "display_data"
    },
    {
     "data": {
      "text/html": [
       "<pre style=\"white-space:pre;overflow-x:auto;line-height:normal;font-family:Menlo,'DejaVu Sans Mono',consolas,'Courier New',monospace\">┏━━━━━━━━━━━━━━━━━━━━━━━━━━━━━━━━━┳━━━━━━━━━━━━━━━━━━━━━━━━┳━━━━━━━━━━━━━━━┓\n",
       "┃<span style=\"font-weight: bold\"> Layer (type)                    </span>┃<span style=\"font-weight: bold\"> Output Shape           </span>┃<span style=\"font-weight: bold\">       Param # </span>┃\n",
       "┡━━━━━━━━━━━━━━━━━━━━━━━━━━━━━━━━━╇━━━━━━━━━━━━━━━━━━━━━━━━╇━━━━━━━━━━━━━━━┩\n",
       "│ lstm (<span style=\"color: #0087ff; text-decoration-color: #0087ff\">LSTM</span>)                     │ (<span style=\"color: #00d7ff; text-decoration-color: #00d7ff\">None</span>, <span style=\"color: #00af00; text-decoration-color: #00af00\">19</span>, <span style=\"color: #00af00; text-decoration-color: #00af00\">50</span>)         │        <span style=\"color: #00af00; text-decoration-color: #00af00\">11,200</span> │\n",
       "├─────────────────────────────────┼────────────────────────┼───────────────┤\n",
       "│ dense_2 (<span style=\"color: #0087ff; text-decoration-color: #0087ff\">Dense</span>)                 │ (<span style=\"color: #00d7ff; text-decoration-color: #00d7ff\">None</span>, <span style=\"color: #00af00; text-decoration-color: #00af00\">19</span>, <span style=\"color: #00af00; text-decoration-color: #00af00\">5</span>)          │           <span style=\"color: #00af00; text-decoration-color: #00af00\">255</span> │\n",
       "└─────────────────────────────────┴────────────────────────┴───────────────┘\n",
       "</pre>\n"
      ],
      "text/plain": [
       "┏━━━━━━━━━━━━━━━━━━━━━━━━━━━━━━━━━┳━━━━━━━━━━━━━━━━━━━━━━━━┳━━━━━━━━━━━━━━━┓\n",
       "┃\u001b[1m \u001b[0m\u001b[1mLayer (type)                   \u001b[0m\u001b[1m \u001b[0m┃\u001b[1m \u001b[0m\u001b[1mOutput Shape          \u001b[0m\u001b[1m \u001b[0m┃\u001b[1m \u001b[0m\u001b[1m      Param #\u001b[0m\u001b[1m \u001b[0m┃\n",
       "┡━━━━━━━━━━━━━━━━━━━━━━━━━━━━━━━━━╇━━━━━━━━━━━━━━━━━━━━━━━━╇━━━━━━━━━━━━━━━┩\n",
       "│ lstm (\u001b[38;5;33mLSTM\u001b[0m)                     │ (\u001b[38;5;45mNone\u001b[0m, \u001b[38;5;34m19\u001b[0m, \u001b[38;5;34m50\u001b[0m)         │        \u001b[38;5;34m11,200\u001b[0m │\n",
       "├─────────────────────────────────┼────────────────────────┼───────────────┤\n",
       "│ dense_2 (\u001b[38;5;33mDense\u001b[0m)                 │ (\u001b[38;5;45mNone\u001b[0m, \u001b[38;5;34m19\u001b[0m, \u001b[38;5;34m5\u001b[0m)          │           \u001b[38;5;34m255\u001b[0m │\n",
       "└─────────────────────────────────┴────────────────────────┴───────────────┘\n"
      ]
     },
     "metadata": {},
     "output_type": "display_data"
    },
    {
     "data": {
      "text/html": [
       "<pre style=\"white-space:pre;overflow-x:auto;line-height:normal;font-family:Menlo,'DejaVu Sans Mono',consolas,'Courier New',monospace\"><span style=\"font-weight: bold\"> Total params: </span><span style=\"color: #00af00; text-decoration-color: #00af00\">11,455</span> (44.75 KB)\n",
       "</pre>\n"
      ],
      "text/plain": [
       "\u001b[1m Total params: \u001b[0m\u001b[38;5;34m11,455\u001b[0m (44.75 KB)\n"
      ]
     },
     "metadata": {},
     "output_type": "display_data"
    },
    {
     "data": {
      "text/html": [
       "<pre style=\"white-space:pre;overflow-x:auto;line-height:normal;font-family:Menlo,'DejaVu Sans Mono',consolas,'Courier New',monospace\"><span style=\"font-weight: bold\"> Trainable params: </span><span style=\"color: #00af00; text-decoration-color: #00af00\">11,455</span> (44.75 KB)\n",
       "</pre>\n"
      ],
      "text/plain": [
       "\u001b[1m Trainable params: \u001b[0m\u001b[38;5;34m11,455\u001b[0m (44.75 KB)\n"
      ]
     },
     "metadata": {},
     "output_type": "display_data"
    },
    {
     "data": {
      "text/html": [
       "<pre style=\"white-space:pre;overflow-x:auto;line-height:normal;font-family:Menlo,'DejaVu Sans Mono',consolas,'Courier New',monospace\"><span style=\"font-weight: bold\"> Non-trainable params: </span><span style=\"color: #00af00; text-decoration-color: #00af00\">0</span> (0.00 B)\n",
       "</pre>\n"
      ],
      "text/plain": [
       "\u001b[1m Non-trainable params: \u001b[0m\u001b[38;5;34m0\u001b[0m (0.00 B)\n"
      ]
     },
     "metadata": {},
     "output_type": "display_data"
    }
   ],
   "source": [
    "from keras.layers import LSTM\n",
    "\n",
    "# Define the LSTM model\n",
    "def build_lstm(sequence_length, num_features):\n",
    "    model = Sequential()\n",
    "    model.add(LSTM(units=50, return_sequences=True, input_shape=(sequence_length, num_features)))\n",
    "    model.add(Dense(units=5))  # Output layer for 5 features\n",
    "    model.compile(optimizer='adam', loss='mean_squared_error')\n",
    "    return model\n",
    "\n",
    "# Build the model\n",
    "lstm_model = build_lstm(sequence_length=19, num_features=5)\n",
    "\n",
    "# Display the model summary\n",
    "lstm_model.summary()"
   ]
  },
  {
   "cell_type": "markdown",
   "metadata": {},
   "source": [
    "### Train the LSTM Model"
   ]
  },
  {
   "cell_type": "code",
   "execution_count": 20,
   "metadata": {},
   "outputs": [],
   "source": [
    "# Train the LSTM model\n",
    "lstm_history = lstm_model.fit(\n",
    "    X_train, y_train,\n",
    "    validation_split=0.1,  # Use 10% of training data for validation\n",
    "    epochs=20,\n",
    "    batch_size=32,\n",
    "    verbose=0\n",
    ")"
   ]
  },
  {
   "cell_type": "markdown",
   "metadata": {},
   "source": [
    "### Evaluate the LSTM Model"
   ]
  },
  {
   "cell_type": "code",
   "execution_count": 21,
   "metadata": {},
   "outputs": [
    {
     "name": "stdout",
     "output_type": "stream",
     "text": [
      "LSTM Test Loss: 0.0017136352835223079\n",
      "\u001b[1m1/1\u001b[0m \u001b[32m━━━━━━━━━━━━━━━━━━━━\u001b[0m\u001b[37m\u001b[0m \u001b[1m0s\u001b[0m 46ms/step\n",
      "\n",
      "LSTM Rescaled Predictions:\n",
      "[[6.9943213e+02 7.2225818e+02 6.8577893e+02 7.3012048e+02 1.9913906e+06]\n",
      " [7.8095197e+02 7.9697906e+02 7.7054126e+02 7.8031787e+02 1.3600120e+06]\n",
      " [7.7934247e+02 7.9125568e+02 7.6897852e+02 7.7392444e+02 1.1246799e+06]\n",
      " [7.8743091e+02 7.9895148e+02 7.7714221e+02 7.6975232e+02 1.1942968e+06]\n",
      " [7.9721698e+02 8.0971210e+02 7.8882251e+02 7.6891718e+02 1.2933559e+06]\n",
      " [8.0034735e+02 8.1313159e+02 7.9441626e+02 7.7105219e+02 1.4013310e+06]\n",
      " [8.0007635e+02 8.1267981e+02 7.9661755e+02 7.7704974e+02 1.4936618e+06]\n",
      " [7.9950604e+02 8.1187720e+02 7.9831757e+02 7.8357990e+02 1.5573940e+06]\n",
      " [8.0076880e+02 8.1366272e+02 8.0185828e+02 7.8982916e+02 1.5742229e+06]\n",
      " [7.9715955e+02 8.0988605e+02 7.9980286e+02 7.9346985e+02 1.6036920e+06]\n",
      " [7.9559406e+02 8.0838843e+02 7.9954663e+02 7.9718604e+02 1.6171409e+06]\n",
      " [7.9458569e+02 8.0773151e+02 7.9992426e+02 7.9827673e+02 1.6130275e+06]\n",
      " [7.9445319e+02 8.0748102e+02 8.0027832e+02 8.0183112e+02 1.6230969e+06]\n",
      " [7.9758435e+02 8.1036493e+02 8.0365118e+02 8.0996765e+02 1.6538005e+06]\n",
      " [8.0446729e+02 8.1854572e+02 8.1113434e+02 8.1514209e+02 1.6190871e+06]\n",
      " [8.1109741e+02 8.2606421e+02 8.1803210e+02 8.2228180e+02 1.6094148e+06]\n",
      " [8.1487482e+02 8.2973566e+02 8.2138348e+02 8.2674139e+02 1.6365431e+06]\n",
      " [8.1269989e+02 8.2689252e+02 8.1895892e+02 8.2396088e+02 1.6922609e+06]\n",
      " [7.9760187e+02 8.0984796e+02 8.0316711e+02 8.1307520e+02 1.7756991e+06]]\n"
     ]
    }
   ],
   "source": [
    "# Evaluate the model on test data\n",
    "lstm_test_loss = lstm_model.evaluate(X_test, y_test, verbose=0)\n",
    "print(f\"LSTM Test Loss: {lstm_test_loss}\")\n",
    "\n",
    "# Make predictions\n",
    "lstm_y_pred = lstm_model.predict(X_test)\n",
    "\n",
    "# Rescale the predictions (if necessary)\n",
    "lstm_y_pred_rescaled = scaler.inverse_transform(lstm_y_pred.reshape(-1, 5))\n",
    "\n",
    "print(\"\\nLSTM Rescaled Predictions:\")\n",
    "print(lstm_y_pred_rescaled)"
   ]
  },
  {
   "cell_type": "markdown",
   "metadata": {},
   "source": [
    "### Visualize LSTM Results"
   ]
  },
  {
   "cell_type": "code",
   "execution_count": 22,
   "metadata": {},
   "outputs": [
    {
     "data": {
      "image/png": "[encoded data removed]",
      "text/plain": [
       "<Figure size 1000x600 with 1 Axes>"
      ]
     },
     "metadata": {},
     "output_type": "display_data"
    }
   ],
   "source": [
    "# Plot true vs predicted values for the 'Close' feature\n",
    "lstm_true_close = y_test.reshape(-1, 5)[:, 3]  # Extract true 'Close' values\n",
    "lstm_pred_close = lstm_y_pred.reshape(-1, 5)[:, 3]  # Extract predicted 'Close' values\n",
    "\n",
    "plt.figure(figsize=(10, 6))\n",
    "plt.plot(lstm_true_close, label='True Close Price', marker='o')\n",
    "plt.plot(lstm_pred_close, label='Predicted Close Price', marker='x')\n",
    "plt.title('LSTM: True vs Predicted Close Prices')\n",
    "plt.legend()\n",
    "plt.show()"
   ]
  },
  {
   "cell_type": "markdown",
   "metadata": {},
   "source": []
  }
 ],
 "metadata": {
  "kernelspec": {
   "display_name": "Python 3",
   "language": "python",
   "name": "python3"
  },
  "language_info": {
   "codemirror_mode": {
    "name": "ipython",
    "version": 3
   },
   "file_extension": ".py",
   "mimetype": "text/x-python",
   "name": "python",
   "nbconvert_exporter": "python",
   "pygments_lexer": "ipython3",
   "version": "3.12.3"
  }
 },
 "nbformat": 4,
 "nbformat_minor": 2
}
